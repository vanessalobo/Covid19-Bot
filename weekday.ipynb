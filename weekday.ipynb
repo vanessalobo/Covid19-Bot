{
  "nbformat": 4,
  "nbformat_minor": 0,
  "metadata": {
    "colab": {
      "name": "weekday.ipynb",
      "provenance": [],
      "collapsed_sections": []
    },
    "kernelspec": {
      "name": "python3",
      "display_name": "Python 3"
    },
    "language_info": {
      "name": "python"
    }
  },
  "cells": [
    {
      "cell_type": "code",
      "metadata": {
        "id": "jy4Uy4rAqWTB",
        "colab": {
          "base_uri": "https://localhost:8080/"
        },
        "outputId": "e39c972b-dbe9-4018-cdc5-6ebb9fba1d83"
      },
      "source": [
        "import tweepy\n",
        "import time\n",
        "from datetime import date\n",
        "\n",
        "# Declaring API keys and Consumer Keys\n",
        "# Generate your keys and replace with below placeholders\n",
        "consumer_key = \"C1fYDFlthopIA2gJclwxGpQL9\"\n",
        "consumer_secret = \"AOUncdErnCGjUH3pbIwKjGVaLMo3Yawqnt3XzykxmNZ5VjaE2V\"\n",
        "access_token = \"1386034465818902528-ZbVOXnCLTTZ73FQkRcnuvpwAFxnlId\"\n",
        "access_token_secret = \"ah8QFti6hOKQFQnwlA3hc4TiwnftS8DHjtxi3D8luGj1S\"\n",
        "# Take the keys and authenticate the bot\n",
        "auth = tweepy.OAuthHandler(consumer_key, consumer_secret)\n",
        "auth.set_access_token(access_token, access_token_secret)\n",
        "api = tweepy.API(auth)\n",
        "user=api.me()\n",
        "print(user.name)\n",
        "import datetime\n",
        "def publictweet():\n",
        "    print(\"hello\")\n",
        "    if datetime.date.today().weekday() == 0:\n",
        "        tweettopublish = 'Hi everyone, today is Monday.   #Monday '\n",
        "    if datetime.date.today().weekday() == 1:\n",
        "        tweettopublish = 'Enjoy your Tuesday.  #Tuesday'\n",
        "    if datetime.date.today().weekday() == 2:\n",
        "        tweettopublish = 'Third week of the Week. #Wednesday'\n",
        "    if datetime.date.today().weekday() == 3:\n",
        "        tweettopublish = 'Thursday. I cannot wait for the Weekend'\n",
        "    if datetime.date.today().weekday() == 4:\n",
        "        tweettopublish = 'Friday...Finally'\n",
        "    if datetime.date.today().weekday() == 5:\n",
        "        tweettopublish = 'Great it is Saturday #weekend #Saturday'\n",
        "    if datetime.date.today().weekday() == 6:\n",
        "        tweettopublish = 'Sunday morning...#Weekend #enjoy '\n",
        "    print('blah')\n",
        "    api.update_status(tweettopublish)\n",
        "    print(tweettopublish)"
      ],
      "execution_count": null,
      "outputs": [
        {
          "output_type": "stream",
          "text": [
            "covid19info2021\n"
          ],
          "name": "stdout"
        }
      ]
    },
    {
      "cell_type": "code",
      "metadata": {
        "id": "NgMSint6GHUy",
        "colab": {
          "base_uri": "https://localhost:8080/"
        },
        "outputId": "5b064309-1ff0-4045-ecde-3ba9166a2470"
      },
      "source": [
        "publictweet()"
      ],
      "execution_count": null,
      "outputs": [
        {
          "output_type": "stream",
          "text": [
            "hello\n",
            "blah\n",
            "Great it is Saturday #weekend #Saturday\n"
          ],
          "name": "stdout"
        }
      ]
    },
    {
      "cell_type": "markdown",
      "metadata": {
        "id": "FvqKfVb8bwxk"
      },
      "source": [
        "TESTING STUFF"
      ]
    },
    {
      "cell_type": "code",
      "metadata": {
        "colab": {
          "base_uri": "https://localhost:8080/"
        },
        "id": "-xLB65mFb0CV",
        "outputId": "65f2c0b6-abcd-45de-f0ff-ffe1df883f05"
      },
      "source": [
        "import tweepy\n",
        "import time\n",
        "from datetime import date\n",
        "\n",
        "# Declaring API keys and Consumer Keys\n",
        "# Generate your keys and replace with below placeholders\n",
        "consumer_key = \"C1fYDFlthopIA2gJclwxGpQL9\"\n",
        "consumer_secret = \"AOUncdErnCGjUH3pbIwKjGVaLMo3Yawqnt3XzykxmNZ5VjaE2V\"\n",
        "access_token = \"1386034465818902528-ZbVOXnCLTTZ73FQkRcnuvpwAFxnlId\"\n",
        "access_token_secret = \"ah8QFti6hOKQFQnwlA3hc4TiwnftS8DHjtxi3D8luGj1S\"\n",
        "# Take the keys and authenticate the bot\n",
        "auth = tweepy.OAuthHandler(consumer_key, consumer_secret)\n",
        "auth.set_access_token(access_token, access_token_secret)\n",
        "api = tweepy.API(auth)\n",
        "user=api.me()\n",
        "print(user.name)"
      ],
      "execution_count": null,
      "outputs": [
        {
          "output_type": "stream",
          "text": [
            "covid19info2021\n"
          ],
          "name": "stdout"
        }
      ]
    },
    {
      "cell_type": "code",
      "metadata": {
        "colab": {
          "base_uri": "https://localhost:8080/"
        },
        "id": "VJMZx3mWcJyk",
        "outputId": "10aafe3c-4d01-431e-a37c-6d46ac00d277"
      },
      "source": [
        "mentions=api.mentions_timeline()\n",
        "mentions[0].__dict__.keys()"
      ],
      "execution_count": null,
      "outputs": [
        {
          "output_type": "execute_result",
          "data": {
            "text/plain": [
              "dict_keys(['_api', '_json', 'created_at', 'id', 'id_str', 'text', 'truncated', 'entities', 'source', 'source_url', 'in_reply_to_status_id', 'in_reply_to_status_id_str', 'in_reply_to_user_id', 'in_reply_to_user_id_str', 'in_reply_to_screen_name', 'author', 'user', 'geo', 'coordinates', 'place', 'contributors', 'is_quote_status', 'retweet_count', 'favorite_count', 'favorited', 'retweeted', 'lang'])"
            ]
          },
          "metadata": {
            "tags": []
          },
          "execution_count": 18
        }
      ]
    },
    {
      "cell_type": "code",
      "metadata": {
        "colab": {
          "base_uri": "https://localhost:8080/"
        },
        "id": "zltY875jdWam",
        "outputId": "89d9901b-1734-44d2-f2cb-062a771728c4"
      },
      "source": [
        "for mention in mentions:\n",
        "  print(str(mention.id) + '-' + mention.text)\n",
        "  if '#hello' in mention.text.lower():\n",
        "    print('found #hello')"
      ],
      "execution_count": null,
      "outputs": [
        {
          "output_type": "stream",
          "text": [
            "1388808439074226178-@covid19info2021 #hello tweeet2\n",
            "found #hello\n",
            "1388805636100554756-@covid19info2021 tweet\n",
            "1388805574603665408-@covid19info2021 tewwt2 #hello\n",
            "found #hello\n"
          ],
          "name": "stdout"
        }
      ]
    },
    {
      "cell_type": "code",
      "metadata": {
        "id": "r_071jfhh1XK"
      },
      "source": [
        "FILENAME='last_seen_id.txt'"
      ],
      "execution_count": null,
      "outputs": []
    },
    {
      "cell_type": "code",
      "metadata": {
        "id": "oYJCA-_DffW3"
      },
      "source": [
        "def retrieve_last_seen_id(filename):\n",
        "  f_read=open(filename, 'r')\n",
        "  last_seen_id=int(f_read.read().strip())\n",
        "  f_read.close()\n",
        "  return last_seen_id\n",
        "\n",
        "def store_last_seen_id(last_seen_id, filename):\n",
        "  f_write=open(filename, 'w')\n",
        "  f_write.write(str(last_seen_id))\n",
        "  f_write.close()\n",
        "  return\n",
        "\n"
      ],
      "execution_count": null,
      "outputs": []
    },
    {
      "cell_type": "code",
      "metadata": {
        "colab": {
          "base_uri": "https://localhost:8080/",
          "height": 361
        },
        "id": "2-9QeQjMlJ6Y",
        "outputId": "07e498b6-5860-44bb-ffb1-6e0b33c1c629"
      },
      "source": [
        "last_seen_id=retrieve_last_seen_id(FILENAME)\n",
        "mentions=api.mentions_timeline(\n",
        "    last_seen_id,\n",
        "    tweet_mode='extended'\n",
        ")\n",
        "\n",
        "for mention in reversed(mentions):\n",
        "  print(str(mention.id) + '-' + mention.text)\n",
        "  last_seen_id=mention.id\n",
        "  store_last_seen_id(last_seen_id, FILENAME)\n",
        "\n",
        "  if '#hello' in mention.full_text.lower():\n",
        "    print('found #hello')\n",
        "    print('responding')"
      ],
      "execution_count": null,
      "outputs": [
        {
          "output_type": "error",
          "ename": "ValueError",
          "evalue": "ignored",
          "traceback": [
            "\u001b[0;31m---------------------------------------------------------------------------\u001b[0m",
            "\u001b[0;31mValueError\u001b[0m                                Traceback (most recent call last)",
            "\u001b[0;32m<ipython-input-33-4480521d7808>\u001b[0m in \u001b[0;36m<module>\u001b[0;34m()\u001b[0m\n\u001b[0;32m----> 1\u001b[0;31m \u001b[0mlast_seen_id\u001b[0m\u001b[0;34m=\u001b[0m\u001b[0mretrieve_last_seen_id\u001b[0m\u001b[0;34m(\u001b[0m\u001b[0mFILENAME\u001b[0m\u001b[0;34m)\u001b[0m\u001b[0;34m\u001b[0m\u001b[0;34m\u001b[0m\u001b[0m\n\u001b[0m\u001b[1;32m      2\u001b[0m mentions=api.mentions_timeline(\n\u001b[1;32m      3\u001b[0m     \u001b[0mlast_seen_id\u001b[0m\u001b[0;34m,\u001b[0m\u001b[0;34m\u001b[0m\u001b[0;34m\u001b[0m\u001b[0m\n\u001b[1;32m      4\u001b[0m     \u001b[0mtweet_mode\u001b[0m\u001b[0;34m=\u001b[0m\u001b[0;34m'extended'\u001b[0m\u001b[0;34m\u001b[0m\u001b[0;34m\u001b[0m\u001b[0m\n\u001b[1;32m      5\u001b[0m )\n",
            "\u001b[0;32m<ipython-input-32-d8217b8ceb0f>\u001b[0m in \u001b[0;36mretrieve_last_seen_id\u001b[0;34m(filename)\u001b[0m\n\u001b[1;32m      1\u001b[0m \u001b[0;32mdef\u001b[0m \u001b[0mretrieve_last_seen_id\u001b[0m\u001b[0;34m(\u001b[0m\u001b[0mfilename\u001b[0m\u001b[0;34m)\u001b[0m\u001b[0;34m:\u001b[0m\u001b[0;34m\u001b[0m\u001b[0;34m\u001b[0m\u001b[0m\n\u001b[1;32m      2\u001b[0m   \u001b[0mf_read\u001b[0m\u001b[0;34m=\u001b[0m\u001b[0mopen\u001b[0m\u001b[0;34m(\u001b[0m\u001b[0mfilename\u001b[0m\u001b[0;34m,\u001b[0m \u001b[0;34m'r'\u001b[0m\u001b[0;34m)\u001b[0m\u001b[0;34m\u001b[0m\u001b[0;34m\u001b[0m\u001b[0m\n\u001b[0;32m----> 3\u001b[0;31m   \u001b[0mlast_seen_id\u001b[0m\u001b[0;34m=\u001b[0m\u001b[0mint\u001b[0m\u001b[0;34m(\u001b[0m\u001b[0mf_read\u001b[0m\u001b[0;34m.\u001b[0m\u001b[0mread\u001b[0m\u001b[0;34m(\u001b[0m\u001b[0;34m)\u001b[0m\u001b[0;34m.\u001b[0m\u001b[0mstrip\u001b[0m\u001b[0;34m(\u001b[0m\u001b[0;34m)\u001b[0m\u001b[0;34m)\u001b[0m\u001b[0;34m\u001b[0m\u001b[0;34m\u001b[0m\u001b[0m\n\u001b[0m\u001b[1;32m      4\u001b[0m   \u001b[0mf_read\u001b[0m\u001b[0;34m.\u001b[0m\u001b[0mclose\u001b[0m\u001b[0;34m(\u001b[0m\u001b[0;34m)\u001b[0m\u001b[0;34m\u001b[0m\u001b[0;34m\u001b[0m\u001b[0m\n\u001b[1;32m      5\u001b[0m   \u001b[0;32mreturn\u001b[0m \u001b[0mlast_seen_id\u001b[0m\u001b[0;34m\u001b[0m\u001b[0;34m\u001b[0m\u001b[0m\n",
            "\u001b[0;31mValueError\u001b[0m: invalid literal for int() with base 10: ''"
          ]
        }
      ]
    },
    {
      "cell_type": "code",
      "metadata": {
        "id": "9QUrKwq_j9g7"
      },
      "source": [
        ""
      ],
      "execution_count": null,
      "outputs": []
    }
  ]
}